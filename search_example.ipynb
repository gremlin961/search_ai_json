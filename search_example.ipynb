{
 "cells": [
  {
   "cell_type": "markdown",
   "id": "8a331300-5ff3-4219-83c0-ce11703cc9e1",
   "metadata": {},
   "source": [
    "# How To Create a Vertex Search AI Data Store Using Python"
   ]
  },
  {
   "cell_type": "markdown",
   "id": "34429b82-078c-4107-827d-8aaed4ab1121",
   "metadata": {},
   "source": [
    "This notebook outlines how to create an ustructured data store in Vertex AI Search. In this example we will create a Vertex AI Search data store and create some documents from a GCS bucket. After creating the data store, we will perform a query and optionally pass the query and the results to Gemini-Pro to produce the final answer."
   ]
  },
  {
   "cell_type": "markdown",
   "id": "69ed54ec-9f36-40af-8d2e-c6fd32a76222",
   "metadata": {},
   "source": [
    "## Prepare the python development environment"
   ]
  },
  {
   "cell_type": "markdown",
   "id": "906ce888-8c52-476b-96d0-7f65cb259f8d",
   "metadata": {},
   "source": [
    "First, let's identify any project specific variables to customize this notebook to your GCP environment. Change YOUR_PROJECT_ID with your own GCP project ID."
   ]
  },
  {
   "cell_type": "code",
   "execution_count": null,
   "id": "205088b5-6d5b-46dd-9d77-a8352eac630b",
   "metadata": {
    "tags": []
   },
   "outputs": [],
   "source": [
    "PROJECT_ID = 'YOUR_PROJECT_ID'\n",
    "REGION = 'us-central1'\n",
    "LOCATION = 'global'\n",
    "DSENGINE = 'YOUR_DS_ENGINE_ID'"
   ]
  },
  {
   "cell_type": "markdown",
   "id": "ddcfe1f3-4e3b-48ec-ac48-25c7371965a1",
   "metadata": {},
   "source": [
    "Install any needed python modules from our requirements.txt file. Most Vertex Workbench environments include all the packages we'll be using, but if you are using an external Jupyter Notebook or require any additional packages for your own needs, you can simply add them to the included requirements.txt file an run the folloiwng commands."
   ]
  },
  {
   "cell_type": "code",
   "execution_count": null,
   "id": "8f4b205a-c50c-4028-9567-97608daaace7",
   "metadata": {
    "tags": []
   },
   "outputs": [],
   "source": [
    "#pip install -r requirements.txt"
   ]
  },
  {
   "cell_type": "markdown",
   "id": "446c690a-6fe8-4b99-9102-78c21fc878e5",
   "metadata": {},
   "source": [
    "Now we will import all required modules"
   ]
  },
  {
   "cell_type": "code",
   "execution_count": null,
   "id": "7f4e49f2-567b-4d81-aca0-d32c726bfa5b",
   "metadata": {
    "tags": []
   },
   "outputs": [],
   "source": [
    "import vertexai\n",
    "\n",
    "from typing import List\n",
    "from google.api_core.client_options import ClientOptions\n",
    "\n",
    "from google.cloud import discoveryengine_v1beta as discoveryengine\n"
   ]
  },
  {
   "cell_type": "markdown",
   "id": "cc932566-dcec-4a33-a1e1-29e49ba32530",
   "metadata": {},
   "source": [
    "## Instantiate Vertex AI ojbect"
   ]
  },
  {
   "cell_type": "markdown",
   "id": "f2b6e839-20d2-4592-82c7-e093ce306be2",
   "metadata": {},
   "source": [
    "Define a function to search the data store based on the information from the user prompt"
   ]
  },
  {
   "cell_type": "code",
   "execution_count": null,
   "id": "50a7cebc-4c04-445f-8726-e7034e8ac266",
   "metadata": {},
   "outputs": [],
   "source": [
    "def search_sample(project_id, location, engine_id, search_query) -> List[discoveryengine.SearchResponse]:\n",
    "\n",
    "    client_options = (\n",
    "        ClientOptions(api_endpoint=f\"{location}-discoveryengine.googleapis.com\")\n",
    "        if location != \"global\"\n",
    "        else None\n",
    "    )\n",
    "    \n",
    "    # Create a client\n",
    "    client = discoveryengine.SearchServiceClient(client_options=client_options)\n",
    "    \n",
    "    # The full resource name of the search app serving config\n",
    "    serving_config = f\"projects/{project_id}/locations/{location}/collections/default_collection/engines/{engine_id}/servingConfigs/default_config\"\n",
    "    \n",
    "    \n",
    "    content_search_spec = discoveryengine.SearchRequest.ContentSearchSpec(\n",
    "        # For information about snippets, refer to:\n",
    "        # https://cloud.google.com/generative-ai-app-builder/docs/snippets\n",
    "        snippet_spec=discoveryengine.SearchRequest.ContentSearchSpec.SnippetSpec(\n",
    "            return_snippet=True\n",
    "            ),\n",
    "        # For information about search summaries, refer to:\n",
    "        # https://cloud.google.com/generative-ai-app-builder/docs/get-search-summaries\n",
    "        summary_spec=discoveryengine.SearchRequest.ContentSearchSpec.SummarySpec(\n",
    "            summary_result_count=5,\n",
    "            include_citations=True,\n",
    "            ignore_adversarial_query=True,\n",
    "            ignore_non_summary_seeking_query=True,\n",
    "            model_prompt_spec=discoveryengine.SearchRequest.ContentSearchSpec.SummarySpec.ModelPromptSpec(\n",
    "                preamble=\"\"\n",
    "            ),\n",
    "            model_spec=discoveryengine.SearchRequest.ContentSearchSpec.SummarySpec.ModelSpec(\n",
    "                version=\"gemini-1.5-flash-001/answer_gen/v1\",\n",
    "            ),\n",
    "        ),\n",
    "    )\n",
    "    \n",
    "    request = discoveryengine.SearchRequest(\n",
    "        serving_config=serving_config,\n",
    "        query=search_query,\n",
    "        #page_size=1,\n",
    "        content_search_spec=content_search_spec,\n",
    "        query_expansion_spec=discoveryengine.SearchRequest.QueryExpansionSpec(\n",
    "            condition=discoveryengine.SearchRequest.QueryExpansionSpec.Condition.AUTO,\n",
    "        ),\n",
    "        spell_correction_spec=discoveryengine.SearchRequest.SpellCorrectionSpec(\n",
    "            mode=discoveryengine.SearchRequest.SpellCorrectionSpec.Mode.AUTO\n",
    "        ),\n",
    "    )\n",
    "\n",
    "    response = client.search(request)\n",
    "    #print(response)\n",
    "\n",
    "    return response"
   ]
  },
  {
   "cell_type": "code",
   "execution_count": null,
   "id": "2f82d773-a063-4350-869f-2903b36322e4",
   "metadata": {},
   "outputs": [],
   "source": []
  },
  {
   "cell_type": "code",
   "execution_count": null,
   "id": "d434bb95-d8bc-4326-ba6b-8a010fa66162",
   "metadata": {
    "tags": []
   },
   "outputs": [],
   "source": [
    "search_prompt = 'Tell me more about EXT11'\n",
    "#search_prompt = 'How many Old English items do I have?'"
   ]
  },
  {
   "cell_type": "code",
   "execution_count": null,
   "id": "a0f7ff7e-dde0-4ee9-8dc4-635b0f30da5a",
   "metadata": {
    "tags": []
   },
   "outputs": [],
   "source": [
    "search_result = search_sample(PROJECT_ID, LOCATION, DSENGINE, search_prompt)"
   ]
  },
  {
   "cell_type": "markdown",
   "id": "7e66e70d-c521-4b0b-ad0b-c519a63cee0f",
   "metadata": {},
   "source": [
    "Print the full output of the response"
   ]
  },
  {
   "cell_type": "code",
   "execution_count": null,
   "id": "17a8450d-1445-40dd-adc4-30bc8f26d4f9",
   "metadata": {},
   "outputs": [],
   "source": [
    "#print(search_result)"
   ]
  },
  {
   "cell_type": "markdown",
   "id": "f54a5ab4-7df9-4a86-9f66-1f92de7fbf4b",
   "metadata": {},
   "source": [
    "Print the summary text"
   ]
  },
  {
   "cell_type": "code",
   "execution_count": null,
   "id": "60ff6a54-74ec-41e1-a744-f8e1f50833dd",
   "metadata": {
    "tags": []
   },
   "outputs": [],
   "source": [
    "print(search_result.summary.summary_text)"
   ]
  },
  {
   "cell_type": "markdown",
   "id": "60109589-a876-4fb8-9db1-f853f55700c1",
   "metadata": {},
   "source": [
    "Print the link to the supporting documents"
   ]
  },
  {
   "cell_type": "code",
   "execution_count": null,
   "id": "369779fc-b8fa-48d2-bedc-e25862ad741b",
   "metadata": {},
   "outputs": [],
   "source": [
    "#-- Print just the first returned document --#\n",
    "#print(search_result.results[0].document.derived_struct_data['link'])\n",
    "\n",
    "#-- Print the full list of returned documents --#\n",
    "for i in search_result.results:\n",
    "    print(i.document.derived_struct_data['link'])"
   ]
  },
  {
   "cell_type": "code",
   "execution_count": null,
   "id": "fa08bad9-5b22-40f8-a5ad-9d88e7b7ff42",
   "metadata": {},
   "outputs": [],
   "source": []
  }
 ],
 "metadata": {
  "environment": {
   "kernel": "python3",
   "name": "common-cpu.m113",
   "type": "gcloud",
   "uri": "gcr.io/deeplearning-platform-release/base-cpu:m113"
  },
  "kernelspec": {
   "display_name": "Python 3",
   "language": "python",
   "name": "python3"
  },
  "language_info": {
   "codemirror_mode": {
    "name": "ipython",
    "version": 3
   },
   "file_extension": ".py",
   "mimetype": "text/x-python",
   "name": "python",
   "nbconvert_exporter": "python",
   "pygments_lexer": "ipython3",
   "version": "3.10.13"
  }
 },
 "nbformat": 4,
 "nbformat_minor": 5
}

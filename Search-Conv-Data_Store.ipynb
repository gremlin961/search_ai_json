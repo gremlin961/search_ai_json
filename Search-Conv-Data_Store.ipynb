{
 "cells": [
  {
   "cell_type": "markdown",
   "id": "8a331300-5ff3-4219-83c0-ce11703cc9e1",
   "metadata": {},
   "source": [
    "# How To Create a Vertex Search AI Data Store with JSON Using Python"
   ]
  },
  {
   "cell_type": "markdown",
   "id": "34429b82-078c-4107-827d-8aaed4ab1121",
   "metadata": {},
   "source": [
    "This notebook outlines how to interact with Vertex AI's Gemini Vision Pro GenAI model to inspect images and generate detailed information about its content. Visual Question Answering (VQA) lets you provide an image to the model and ask a question about the image's contents. In response to your question you get one or more natural language answers."
   ]
  },
  {
   "cell_type": "markdown",
   "id": "69ed54ec-9f36-40af-8d2e-c6fd32a76222",
   "metadata": {},
   "source": [
    "## Prepare the python development environment"
   ]
  },
  {
   "cell_type": "markdown",
   "id": "906ce888-8c52-476b-96d0-7f65cb259f8d",
   "metadata": {},
   "source": [
    "First, let's identify any project specific variables to customize this notebook to your GCP environment. Change YOUR_PROJECT_ID with your own GCP project ID."
   ]
  },
  {
   "cell_type": "code",
   "execution_count": null,
   "id": "205088b5-6d5b-46dd-9d77-a8352eac630b",
   "metadata": {
    "tags": []
   },
   "outputs": [],
   "source": [
    "PROJECT_ID = 'rkiles-demo-host-vpc'\n",
    "LOCATION = 'us-central1'\n",
    "DSNAME = \"json-test-datastore\" "
   ]
  },
  {
   "cell_type": "markdown",
   "id": "76e7d4bb-dd35-4477-b94a-8666cf0f9695",
   "metadata": {},
   "source": [
    "Next, let's specify the name of the image file you want to inspect, such as \"OJ.png\" or \"shoe.png\""
   ]
  },
  {
   "cell_type": "code",
   "execution_count": null,
   "id": "9ba226a4-d673-4778-8cbd-c32dc88b1389",
   "metadata": {},
   "outputs": [],
   "source": [
    "image_filename = 'stuff_on_a_shelf.jpg'\n",
    "#image_filename = 'OJ.png'"
   ]
  },
  {
   "cell_type": "markdown",
   "id": "fe92738a-045b-48a4-ab0e-1d98fad2089a",
   "metadata": {},
   "source": [
    "Install any needed python modules from our requirements.txt file. Most Vertex Workbench environments include all the packages we'll be using, but if you are using an external Jupyter Notebook or require any additional packages for your own needs, you can simply add them to the included requirements.txt file an run the folloiwng commands."
   ]
  },
  {
   "cell_type": "code",
   "execution_count": null,
   "id": "f69175b8-63c4-4b5a-837d-055743c0b8d1",
   "metadata": {
    "tags": []
   },
   "outputs": [],
   "source": [
    "#pip install -r requirements.txt"
   ]
  },
  {
   "cell_type": "markdown",
   "id": "444b2ce7-0277-4ada-9648-34c67774bfd2",
   "metadata": {},
   "source": [
    "Now we will import all required modules. For our purpose, we will be utilizing the following:\n",
    "\n",
    "- vertexai - Provides authentication access to the Google API's, such as imagegeneration:predict\n",
    "- vertexai.preview.generative_models - Interact with new multimodal models\n",
    "- base64 - Imagen API requests return generated or edited images as base64-encoded strings. This module will help us decode this data to an image file\n",
    "- json - Python module used to interact with JSON data. Imagen returns results in json format."
   ]
  },
  {
   "cell_type": "code",
   "execution_count": null,
   "id": "b8e15897-0cb0-4173-9b91-17270a10b989",
   "metadata": {
    "tags": []
   },
   "outputs": [],
   "source": [
    "import vertexai\n",
    "from vertexai.preview.generative_models import GenerativeModel, Part\n",
    "\n",
    "from google.cloud import aiplatform\n",
    "from google.cloud import aiplatform_v1beta1 as vertex_ai\n",
    "\n",
    "from typing import List\n",
    "from google.api_core.client_options import ClientOptions\n",
    "\n",
    "from google.cloud import discoveryengine_v1beta as discoveryengine\n",
    "\n",
    "import base64\n",
    "import json"
   ]
  },
  {
   "cell_type": "markdown",
   "id": "4a2b2668-962a-42da-b92b-4932f224bb0d",
   "metadata": {},
   "source": [
    "## Instantiate Vertex AI ojbect"
   ]
  },
  {
   "cell_type": "markdown",
   "id": "bcc262a0-fad5-4f15-aee3-cf9ce36a78b0",
   "metadata": {},
   "source": [
    "To use Gemini Vision Pro on Vertex AI you must provide a text description of what you want to inspect, generate or edit. These descriptions are called prompts, and these prompts are the primary way you communicate with Generative AI. Here, we are specifiying what we want the model to identify using a prompt. Play around with this content and see what kind of details you can extract from an image. More information can be found here https://cloud.google.com/vertex-ai/docs/generative-ai/multimodal/overview"
   ]
  },
  {
   "cell_type": "markdown",
   "id": "7c42ad98-e2f9-4c04-a1eb-8f42d2bb1b5e",
   "metadata": {},
   "source": [
    "In this example, we will ask Gemini to inspect a picture of an orange juice carton and provide it's results in a json format."
   ]
  },
  {
   "cell_type": "code",
   "execution_count": null,
   "id": "94c9ba6f-3c32-4e94-b9ed-779d24db6dac",
   "metadata": {
    "tags": []
   },
   "outputs": [],
   "source": [
    "vqa_prompt = 'Briefly describe each product you see in this picture and provide your response in JSON format. Include the brand, description, size, price, item number, bay and location. If you can not determine the size, mark it as NA. Do not include the json prefix in your response.'\n",
    "#vqa_prompt = 'Briefly describe each product you see in this picture and provide your response in JSON format. Include the brand, description and size. If you can not determine the size, mark it as NA'"
   ]
  },
  {
   "cell_type": "markdown",
   "id": "8b40b114-aae7-4cfb-9c20-34bc6773c178",
   "metadata": {},
   "source": [
    "Next we define a function to build the request to be sent to the multimodal model. Two examples are provided, the first creates a base64 encoded string of a local image and uses the from_data function. The second example shows how to provide an image stored in a GCS bucket and use the from_uri function. When using a GCS bucket as the source, you can specify up to 14 different files and do not have to manually create the base64 string. This makes it convenent for processing multiple files at a time."
   ]
  },
  {
   "cell_type": "code",
   "execution_count": null,
   "id": "94b9d834-c641-4ff3-bd90-8b1ad90c5722",
   "metadata": {
    "tags": []
   },
   "outputs": [],
   "source": [
    "with open(image_filename, \"rb\") as f:\n",
    "    encoded_base_image = base64.b64encode(f.read())\n",
    "B64_BASE_IMAGE = encoded_base_image.decode('utf-8')"
   ]
  },
  {
   "cell_type": "code",
   "execution_count": null,
   "id": "5a94e84e-8fd3-418a-9b54-71c43fd34e01",
   "metadata": {
    "tags": []
   },
   "outputs": [],
   "source": [
    "def generate_text(project_id: str, location: str, b64_image: str, prompt: str) -> str:\n",
    "    # Initialize Vertex AI\n",
    "    vertexai.init(project=project_id, location=location)\n",
    "    # Load the model\n",
    "    multimodal_model = GenerativeModel(\"gemini-pro-vision\")\n",
    "    # Query the model\n",
    "    response = multimodal_model.generate_content(\n",
    "        [\n",
    "            # Add an example image\n",
    "            Part.from_data(\n",
    "                data=base64.b64decode(b64_image), mime_type=\"image/png\"\n",
    "            ),\n",
    "            #\"what is shown in this image?\",\n",
    "            vqa_prompt,\n",
    "        ]\n",
    "    )\n",
    "    #print(response)\n",
    "    return response.text"
   ]
  },
  {
   "cell_type": "markdown",
   "id": "63c0bf4c-c3e3-4925-8d49-d4f49c1350d3",
   "metadata": {},
   "source": [
    "Uncomment this section if you would prefer to use an image lcoated in a GCS bucket."
   ]
  },
  {
   "cell_type": "markdown",
   "id": "ae3fb974-e836-40c5-81e3-c83f63bc84e0",
   "metadata": {
    "tags": []
   },
   "source": [
    "## Send the request and display the response"
   ]
  },
  {
   "cell_type": "markdown",
   "id": "b93462b3-7ee7-4f6f-a141-0d54ce304669",
   "metadata": {
    "tags": []
   },
   "source": [
    "Call the above generate_text fuction and display the result."
   ]
  },
  {
   "cell_type": "code",
   "execution_count": null,
   "id": "a32a6c60-9040-4f58-9d25-383e25b86360",
   "metadata": {},
   "outputs": [],
   "source": [
    "#qa_response = json.loads(generate_text(PROJECT_ID, LOCATION, B64_BASE_IMAGE, vqa_prompt))\n",
    "qa_response = generate_text(PROJECT_ID, LOCATION, B64_BASE_IMAGE, vqa_prompt)\n",
    "print(qa_response)"
   ]
  },
  {
   "cell_type": "markdown",
   "id": "5192001a-47ec-4a6b-a93e-f91ce2e1dd79",
   "metadata": {},
   "source": [
    "That's it! Congratulations on defining your first visual Q&A with Imagen!"
   ]
  },
  {
   "cell_type": "code",
   "execution_count": null,
   "id": "6ff660fc-81fb-45b5-9132-8b3e4b002e25",
   "metadata": {
    "tags": []
   },
   "outputs": [],
   "source": []
  },
  {
   "cell_type": "code",
   "execution_count": null,
   "id": "dae8148c-235d-43a9-9087-84c9357acbf1",
   "metadata": {
    "jupyter": {
     "source_hidden": true
    },
    "tags": []
   },
   "outputs": [],
   "source": [
    "schema_prompt = 'You are a json expert. Do not include the json prefix in your response. Create a valid json schema to define this data using schema version: https://json-schema.org/draft/2020-12/schema. ' + qa_response"
   ]
  },
  {
   "cell_type": "code",
   "execution_count": null,
   "id": "cc50dba1-a53b-4691-9f7b-4c073bc5b69f",
   "metadata": {
    "jupyter": {
     "source_hidden": true
    },
    "tags": []
   },
   "outputs": [],
   "source": [
    "def generate_schema(project_id: str, location: str, prompt: str) -> str:\n",
    "    # Initialize Vertex AI\n",
    "    vertexai.init(project=project_id, location=location)\n",
    "    # Load the model\n",
    "    text_model = GenerativeModel(\"gemini-pro\")\n",
    "    # Query the model\n",
    "    response = text_model.generate_content(\n",
    "        [\n",
    "            #Generate the schema,\n",
    "            prompt,\n",
    "        ]\n",
    "    )\n",
    "    #print(response)\n",
    "    return response.text"
   ]
  },
  {
   "cell_type": "code",
   "execution_count": null,
   "id": "92321d28-40e4-45c4-98fe-b759dfc2c5db",
   "metadata": {
    "jupyter": {
     "source_hidden": true
    },
    "tags": []
   },
   "outputs": [],
   "source": [
    "schema_response = generate_schema(PROJECT_ID, LOCATION, schema_prompt)\n",
    "print(schema_response)"
   ]
  },
  {
   "cell_type": "code",
   "execution_count": null,
   "id": "80ebbb32-36bd-4670-a27e-672e30197157",
   "metadata": {},
   "outputs": [],
   "source": []
  },
  {
   "cell_type": "code",
   "execution_count": null,
   "id": "c4c62234-0156-4014-8398-2ee6e5937624",
   "metadata": {
    "tags": []
   },
   "outputs": [],
   "source": [
    "def sample_create_data_store(project_id, location, display_name):\n",
    "    # Create a client\n",
    "    client = discoveryengine.DataStoreServiceClient()\n",
    "\n",
    "    # Initialize request argument(s)\n",
    "    data_store = discoveryengine.DataStore()\n",
    "    data_store.display_name = display_name\n",
    "    data_store.industry_vertical = 'GENERIC'\n",
    "\n",
    "    request = discoveryengine.CreateDataStoreRequest(\n",
    "        #parent=f\"projects/{project_id}/locations/{location}\",\n",
    "        parent=f\"projects/{project_id}/locations/global/collections/default_collection\",\n",
    "        data_store=data_store,\n",
    "        data_store_id = display_name\n",
    "    )\n",
    "\n",
    "    # Make the request\n",
    "    operation = client.create_data_store(request=request)\n",
    "\n",
    "    print(\"Waiting for operation to complete...\")\n",
    "\n",
    "    response = operation.result()\n",
    "\n",
    "    # Handle the response\n",
    "    print(response)\n"
   ]
  },
  {
   "cell_type": "code",
   "execution_count": null,
   "id": "26cb2935-32c1-407c-88d6-c90323029c82",
   "metadata": {
    "tags": []
   },
   "outputs": [],
   "source": [
    "#create_and_upload_datastore(PROJECT_ID, LOCATION, DSNAME, qa_response, qa_schema)\n",
    "sample_create_data_store(PROJECT_ID, LOCATION, DSNAME)"
   ]
  },
  {
   "cell_type": "code",
   "execution_count": null,
   "id": "694cdc15-69b6-4e93-b88d-7adf2e70c838",
   "metadata": {},
   "outputs": [],
   "source": []
  },
  {
   "cell_type": "code",
   "execution_count": null,
   "id": "13e1d9b2-3a9d-4298-bc91-b0173b379969",
   "metadata": {
    "jupyter": {
     "source_hidden": true
    },
    "tags": []
   },
   "outputs": [],
   "source": [
    "def sample_create_schema(project_id, location, datastore_name, schema_id, json_schema):\n",
    "    # Create a client\n",
    "    client = discoveryengine_v1.SchemaServiceClient()\n",
    "\n",
    "    # Initialize request argument(s)\n",
    "    request = discoveryengine_v1.CreateSchemaRequest(\n",
    "        parent=f\"projects/{project_id}/locations/global/collections/default_collection/dataStores/{datastore_name}/schemas/default_schema\",\n",
    "        schema = discoveryengine_v1.Schema(json_schema=json_schema),\n",
    "        schema_id=schema_id,\n",
    "    )\n",
    "\n",
    "    # Make the request\n",
    "    operation = client.create_schema(request=request)\n",
    "\n",
    "    print(\"Waiting for operation to complete...\")\n",
    "\n",
    "    response = operation.result()\n",
    "\n",
    "    # Handle the response\n",
    "    print(response)\n",
    "\n",
    "# [END discoveryengine_v1_generated_SchemaService_CreateSchema_sync]"
   ]
  },
  {
   "cell_type": "code",
   "execution_count": null,
   "id": "a1052a15-5277-4d03-875d-ee3c2ddd6f92",
   "metadata": {
    "jupyter": {
     "source_hidden": true
    },
    "tags": []
   },
   "outputs": [],
   "source": [
    "sample_create_schema(PROJECT_ID, LOCATION, DSNAME, 'testschema1', schema_response)"
   ]
  },
  {
   "cell_type": "code",
   "execution_count": null,
   "id": "39e46c4e-a863-48c8-95f3-b0f3ce4f139f",
   "metadata": {},
   "outputs": [],
   "source": []
  },
  {
   "cell_type": "code",
   "execution_count": null,
   "id": "506865c8-6987-4504-b2c9-32e85e4cda5b",
   "metadata": {},
   "outputs": [],
   "source": []
  },
  {
   "cell_type": "code",
   "execution_count": null,
   "id": "376719c1-a6c8-4031-a195-6c4bcc8c5238",
   "metadata": {
    "tags": []
   },
   "outputs": [],
   "source": [
    "def sample_create_document(project_id, location, datastore_name, document_id, json_string):\n",
    "    # Create a client\n",
    "    client = discoveryengine.DocumentServiceClient()\n",
    "\n",
    "    # Initialize request argument(s)\n",
    "    request = discoveryengine.CreateDocumentRequest(\n",
    "        parent=f\"projects/{project_id}/locations/global/collections/default_collection/dataStores/{datastore_name}/branches/0\",\n",
    "        document = discoveryengine.Document(struct_data=json_string),\n",
    "        document_id=document_id,\n",
    "    )\n",
    "\n",
    "    # Make the request\n",
    "    response = client.create_document(request=request)\n",
    "\n",
    "    # Handle the response\n",
    "    print(response)\n",
    "\n",
    "# [END discoveryengine_v1_generated_DocumentService_CreateDocument_sync]"
   ]
  },
  {
   "cell_type": "code",
   "execution_count": null,
   "id": "6e46e0f7-4868-4597-90f8-d4c0bc6218c9",
   "metadata": {
    "jupyter": {
     "source_hidden": true
    },
    "tags": []
   },
   "outputs": [],
   "source": [
    "#sample_create_document(PROJECT_ID, LOCATION, DSNAME, 'jsontest1', qa_response)\n",
    "\n",
    "data_file = json.loads(qa_response)\n",
    "sample_create_document(PROJECT_ID, LOCATION, DSNAME, 'jsontest1', data_file)"
   ]
  },
  {
   "cell_type": "code",
   "execution_count": null,
   "id": "0923188a-527d-4bd1-8842-cc225f364352",
   "metadata": {
    "tags": []
   },
   "outputs": [],
   "source": [
    "qa_json = json.loads(qa_response)\n",
    "\n",
    "recordnum = 0\n",
    "\n",
    "for brand in qa_json['products']:\n",
    "    sample_create_document(PROJECT_ID, LOCATION, DSNAME, 'record'+str(recordnum), brand)\n",
    "    recordnum = recordnum + 1\n",
    "    #print(brand)"
   ]
  },
  {
   "cell_type": "code",
   "execution_count": null,
   "id": "eca37a01-1891-49cc-b4f1-642db32de2cd",
   "metadata": {},
   "outputs": [],
   "source": []
  },
  {
   "cell_type": "code",
   "execution_count": null,
   "id": "959e07bf-e249-4afc-849e-0bc3c6bee07f",
   "metadata": {},
   "outputs": [],
   "source": []
  },
  {
   "cell_type": "code",
   "execution_count": null,
   "id": "8717c537-965b-4969-bacc-753156eeb9cb",
   "metadata": {},
   "outputs": [],
   "source": []
  },
  {
   "cell_type": "code",
   "execution_count": null,
   "id": "861a18b6-9083-49fa-8f0a-1caf0b293809",
   "metadata": {
    "tags": []
   },
   "outputs": [],
   "source": [
    "def search_sample(project_id, location, engine_id, search_query) -> List[discoveryengine.SearchResponse]:\n",
    "\n",
    "    client_options = (\n",
    "        ClientOptions(api_endpoint=f\"{location}-discoveryengine.googleapis.com\")\n",
    "        if location != \"global\"\n",
    "        else None\n",
    "    )\n",
    "    \n",
    "    # Create a client\n",
    "    client = discoveryengine.SearchServiceClient(client_options=client_options)\n",
    "    \n",
    "    # The full resource name of the search app serving config\n",
    "    serving_config = f\"projects/{project_id}/locations/{location}/collections/default_collection/engines/{engine_id}/servingConfigs/default_config\"\n",
    "    \n",
    "    \n",
    "    content_search_spec = discoveryengine.SearchRequest.ContentSearchSpec(\n",
    "        # For information about snippets, refer to:\n",
    "        # https://cloud.google.com/generative-ai-app-builder/docs/snippets\n",
    "        snippet_spec=discoveryengine.SearchRequest.ContentSearchSpec.SnippetSpec(\n",
    "            return_snippet=True\n",
    "            ),\n",
    "        # For information about search summaries, refer to:\n",
    "        # https://cloud.google.com/generative-ai-app-builder/docs/get-search-summaries\n",
    "        summary_spec=discoveryengine.SearchRequest.ContentSearchSpec.SummarySpec(\n",
    "            summary_result_count=5,\n",
    "            include_citations=True,\n",
    "            ignore_adversarial_query=True,\n",
    "            ignore_non_summary_seeking_query=True,\n",
    "            model_prompt_spec=discoveryengine.SearchRequest.ContentSearchSpec.SummarySpec.ModelPromptSpec(\n",
    "                preamble=\" \"\n",
    "            ),\n",
    "            model_spec=discoveryengine.SearchRequest.ContentSearchSpec.SummarySpec.ModelSpec(\n",
    "                version=\"stable\",\n",
    "            ),\n",
    "        ),\n",
    "    )\n",
    "    \n",
    "    request = discoveryengine.SearchRequest(\n",
    "        serving_config=serving_config,\n",
    "        query=search_query,\n",
    "        page_size=1,\n",
    "        content_search_spec=content_search_spec,\n",
    "        query_expansion_spec=discoveryengine.SearchRequest.QueryExpansionSpec(\n",
    "            condition=discoveryengine.SearchRequest.QueryExpansionSpec.Condition.AUTO,\n",
    "        ),\n",
    "        spell_correction_spec=discoveryengine.SearchRequest.SpellCorrectionSpec(\n",
    "            mode=discoveryengine.SearchRequest.SpellCorrectionSpec.Mode.AUTO\n",
    "        ),\n",
    "    )\n",
    "\n",
    "    response = client.search(request)\n",
    "    print(response)\n",
    "\n",
    "    return response"
   ]
  },
  {
   "cell_type": "code",
   "execution_count": null,
   "id": "b6b67904-b47c-487e-b4ec-2c1e72fcdad4",
   "metadata": {
    "tags": []
   },
   "outputs": [],
   "source": [
    "search_prompt = 'What is the price of Method?'"
   ]
  },
  {
   "cell_type": "code",
   "execution_count": null,
   "id": "14ba5c09-c89a-4eb4-a962-0706c875e988",
   "metadata": {
    "tags": []
   },
   "outputs": [],
   "source": [
    "search_result = search_sample(PROJECT_ID, 'global', 'test123_1711654796969', search_prompt)"
   ]
  },
  {
   "cell_type": "code",
   "execution_count": null,
   "id": "07fb9144-7672-4dbc-8876-9cb37291cb64",
   "metadata": {},
   "outputs": [],
   "source": []
  },
  {
   "cell_type": "code",
   "execution_count": null,
   "id": "bfe10726-3674-44b3-84c9-4fd2147b4fe7",
   "metadata": {
    "tags": []
   },
   "outputs": [],
   "source": [
    "def generate_response(project_id: str, location: str, prompt: str) -> str:\n",
    "    # Initialize Vertex AI\n",
    "    vertexai.init(project=project_id, location=location)\n",
    "    # Load the model\n",
    "    text_model = GenerativeModel(\"gemini-pro\")\n",
    "    # Query the model\n",
    "    response = text_model.generate_content(\n",
    "        [\n",
    "            #Generate the response,\n",
    "            prompt,\n",
    "        ]\n",
    "    )\n",
    "    #print(response)\n",
    "    return response.text"
   ]
  },
  {
   "cell_type": "code",
   "execution_count": null,
   "id": "8f8501cf-3081-405d-932f-c5373e52ecbd",
   "metadata": {
    "tags": []
   },
   "outputs": [],
   "source": [
    "results_prompt = ' Base your response on the following data only: ' + str(search_result)"
   ]
  },
  {
   "cell_type": "code",
   "execution_count": null,
   "id": "a2bb401d-08d7-442d-9272-cde7979a2ed7",
   "metadata": {
    "tags": []
   },
   "outputs": [],
   "source": [
    "my_prompt = search_prompt + results_prompt"
   ]
  },
  {
   "cell_type": "code",
   "execution_count": null,
   "id": "b5bcaae2-02bf-4866-aa76-ff158962090e",
   "metadata": {
    "tags": []
   },
   "outputs": [],
   "source": [
    "schema_response = generate_response(PROJECT_ID, LOCATION, my_prompt)\n",
    "print(schema_response)"
   ]
  },
  {
   "cell_type": "code",
   "execution_count": null,
   "id": "67a4c1cf-d306-4c1c-b473-039de17e2cae",
   "metadata": {},
   "outputs": [],
   "source": []
  }
 ],
 "metadata": {
  "environment": {
   "kernel": "python3",
   "name": "common-cpu.m113",
   "type": "gcloud",
   "uri": "gcr.io/deeplearning-platform-release/base-cpu:m113"
  },
  "kernelspec": {
   "display_name": "Python 3",
   "language": "python",
   "name": "python3"
  },
  "language_info": {
   "codemirror_mode": {
    "name": "ipython",
    "version": 3
   },
   "file_extension": ".py",
   "mimetype": "text/x-python",
   "name": "python",
   "nbconvert_exporter": "python",
   "pygments_lexer": "ipython3",
   "version": "3.10.13"
  }
 },
 "nbformat": 4,
 "nbformat_minor": 5
}

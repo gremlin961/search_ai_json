{
 "cells": [
  {
   "cell_type": "markdown",
   "id": "8a331300-5ff3-4219-83c0-ce11703cc9e1",
   "metadata": {},
   "source": [
    "# How To Create a Vertex Search AI Data Store Using Python"
   ]
  },
  {
   "cell_type": "markdown",
   "id": "34429b82-078c-4107-827d-8aaed4ab1121",
   "metadata": {},
   "source": [
    "This notebook outlines how to create an ustructured data store in Vertex AI Search. In this example we will create a Vertex AI Search data store and create some documents from a GCS bucket. After creating the data store, we will perform a query and optionally pass the query and the results to Gemini-Pro to produce the final answer."
   ]
  },
  {
   "cell_type": "markdown",
   "id": "69ed54ec-9f36-40af-8d2e-c6fd32a76222",
   "metadata": {},
   "source": [
    "## Prepare the python development environment"
   ]
  },
  {
   "cell_type": "markdown",
   "id": "906ce888-8c52-476b-96d0-7f65cb259f8d",
   "metadata": {},
   "source": [
    "First, let's identify any project specific variables to customize this notebook to your GCP environment. Change YOUR_PROJECT_ID with your own GCP project ID."
   ]
  },
  {
   "cell_type": "code",
   "execution_count": null,
   "id": "205088b5-6d5b-46dd-9d77-a8352eac630b",
   "metadata": {
    "tags": []
   },
   "outputs": [],
   "source": [
    "PROJECT_ID = 'YOUR_PROJECT_ID'\n",
    "REGION = 'us-central1'\n",
    "LOCATION = 'global'\n",
    "GCS_BUCKET = 'YOUR_GCS_BUCKET'\n",
    "GCS_FOLDER = 'YOUR_FOLDER_IN_GCS_BUCKET'\n",
    "DSNAME = \"NAME_OF_THE_DATA-STORE\" \n",
    "DSENGINE = 'NAME_OF_THE_APP-ENGINE'"
   ]
  },
  {
   "cell_type": "markdown",
   "id": "6b763036-aeb6-44c2-a267-03832035b468",
   "metadata": {},
   "source": [
    "Install any needed python modules from our requirements.txt file. Most Vertex Workbench environments include all the packages we'll be using, but if you are using an external Jupyter Notebook or require any additional packages for your own needs, you can simply add them to the included requirements.txt file an run the folloiwng commands."
   ]
  },
  {
   "cell_type": "code",
   "execution_count": 11,
   "id": "ae1c136e-7a82-4400-a3eb-e26ef6d07ac3",
   "metadata": {
    "tags": []
   },
   "outputs": [],
   "source": [
    "#pip install -r requirements.txt"
   ]
  },
  {
   "cell_type": "markdown",
   "id": "225d9c8d-86e7-4581-9755-4378480cbc94",
   "metadata": {},
   "source": [
    "Now we will import all required modules. For our purpose, we will be utilizing the following:\n",
    "\n",
    "- vertexai - Provides authentication access to the Google API's, such as imagegeneration:predict\n",
    "- vertexai.preview.generative_models - Interact with new multimodal models\n",
    "- base64 - Imagen API requests return generated or edited images as base64-encoded strings. This module will help us decode this data to an image file\n",
    "- json - Python module used to interact with JSON data. Imagen returns results in json format."
   ]
  },
  {
   "cell_type": "code",
   "execution_count": 12,
   "id": "41479aa4-d7b3-4c3c-b718-4dd08babfeac",
   "metadata": {
    "tags": []
   },
   "outputs": [],
   "source": [
    "import vertexai\n",
    "from vertexai.preview.generative_models import GenerativeModel, Part\n",
    "\n",
    "from google.cloud import aiplatform\n",
    "from google.cloud import aiplatform_v1beta1 as vertex_ai\n",
    "\n",
    "from google.cloud import storage\n",
    "\n",
    "from typing import List\n",
    "from google.api_core.client_options import ClientOptions\n",
    "\n",
    "from google.cloud import discoveryengine_v1beta as discoveryengine\n",
    "\n",
    "import base64\n",
    "import json\n",
    "import re\n",
    "import mimetypes"
   ]
  },
  {
   "cell_type": "markdown",
   "id": "bb085714-3506-4c0f-b99d-13da8401133f",
   "metadata": {},
   "source": [
    "## Instantiate Vertex AI ojbect"
   ]
  },
  {
   "cell_type": "markdown",
   "id": "af0074c0-6f13-4487-a252-8647d91c7d37",
   "metadata": {},
   "source": [
    "Define the functions that will be used in this notebook."
   ]
  },
  {
   "cell_type": "markdown",
   "id": "9627a655-89cf-4389-ac59-992737675a19",
   "metadata": {},
   "source": [
    "Define a function to build a python list of files located within a GCS bucket and subfolder. This list is recursive."
   ]
  },
  {
   "cell_type": "code",
   "execution_count": 13,
   "id": "5f966a7d-3859-47fe-a357-de93eeb82568",
   "metadata": {
    "tags": []
   },
   "outputs": [],
   "source": [
    "def get_files(bucket_name, prefix):\n",
    "    \"\"\"Lists all files in a Google Cloud Storage bucket recursively.\n",
    "\n",
    "    Args:\n",
    "        bucket_name: The name of the GCS bucket.\n",
    "        prefix: (Optional) Filter results to files prefixed by this value.\n",
    "\n",
    "    Returns:\n",
    "        A list of file names within the bucket and all subfolders.\n",
    "    \"\"\"\n",
    "\n",
    "    storage_client = storage.Client()\n",
    "    all_files = []\n",
    "    \n",
    "    for blob in storage_client.list_blobs(bucket_name, prefix=prefix):\n",
    "        if blob.name.endswith(\"/\"):  # It's a folder\n",
    "            print('Starting recursive import for folder: ' + blob.name)\n",
    "        else:\n",
    "            all_files.append(blob.name)\n",
    "\n",
    "    return all_files"
   ]
  },
  {
   "cell_type": "markdown",
   "id": "77bf9880-0c68-4ab5-bf70-afce70649579",
   "metadata": {},
   "source": [
    "Define a function to create a new VAIS Data Store "
   ]
  },
  {
   "cell_type": "code",
   "execution_count": 14,
   "id": "4e54c040-a146-4aaa-8a6e-fd198b9ac4df",
   "metadata": {
    "tags": []
   },
   "outputs": [],
   "source": [
    "def create_vais_data_store(project_id, location, display_name):\n",
    "    # Create a client\n",
    "    client = discoveryengine.DataStoreServiceClient()\n",
    "\n",
    "    # Initialize request argument(s)\n",
    "    data_store = discoveryengine.DataStore()\n",
    "    data_store.display_name = display_name\n",
    "    data_store.industry_vertical = 'GENERIC'\n",
    "    data_store.content_config = 'CONTENT_REQUIRED'\n",
    "\n",
    "    request = discoveryengine.CreateDataStoreRequest(\n",
    "        #parent=f\"projects/{project_id}/locations/{location}\",\n",
    "        parent=f\"projects/{project_id}/locations/{location}/collections/default_collection\",\n",
    "        data_store=data_store,\n",
    "        data_store_id = display_name\n",
    "    )\n",
    "\n",
    "    # Make the request\n",
    "    operation = client.create_data_store(request=request)\n",
    "\n",
    "    print(\"Waiting for operation to complete...\")\n",
    "\n",
    "    response = operation.result()\n",
    "\n",
    "    # Handle the response\n",
    "    print(response)\n"
   ]
  },
  {
   "cell_type": "markdown",
   "id": "a983e3a0-caf9-475e-93d6-ddf030619e35",
   "metadata": {},
   "source": [
    "Define a function to add a file to an unstructured data store"
   ]
  },
  {
   "cell_type": "code",
   "execution_count": 33,
   "id": "f0104488-cab5-4f62-9a94-778f4edd1f57",
   "metadata": {
    "tags": []
   },
   "outputs": [],
   "source": [
    "def text_create_document(project_id, location, datastore_name, document_id, file_uri, mime_type, customer_id, extension_id):\n",
    "    # Create a client\n",
    "    client = discoveryengine.DocumentServiceClient()\n",
    "    \n",
    "    # Create the Document object\n",
    "    document = discoveryengine.Document(\n",
    "        content=discoveryengine.Document.Content(\n",
    "            mime_type=mime_type,\n",
    "            #raw_bytes=text_content,\n",
    "            uri=file_uri,\n",
    "        ),\n",
    "        json_data='{\"customer_id\":\"'+str(customer_id)+'\", \"extension_id\":\"'+str(extension_id)+'\"}'\n",
    "    )\n",
    "    \n",
    "    # Initialize request argument(s)\n",
    "    request = discoveryengine.CreateDocumentRequest(\n",
    "        parent=f\"projects/{project_id}/locations/{location}/collections/default_collection/dataStores/{datastore_name}/branches/0\",\n",
    "        document=document,\n",
    "        document_id=document_id,\n",
    "    )\n",
    "\n",
    "    # Make the request\n",
    "    response = client.create_document(request=request)\n",
    "\n",
    "    # Handle the response\n",
    "    #print(response)"
   ]
  },
  {
   "cell_type": "markdown",
   "id": "e5d3019c-0c7c-4ec1-b201-64ff3e95b1bc",
   "metadata": {},
   "source": [
    "Define a function to search the data store based on the information from the user prompt"
   ]
  },
  {
   "cell_type": "code",
   "execution_count": 16,
   "id": "8bef7e52-6b3e-4234-85b3-633e69369304",
   "metadata": {},
   "outputs": [],
   "source": [
    "def search_sample(project_id, location, engine_id, search_query) -> List[discoveryengine.SearchResponse]:\n",
    "\n",
    "    client_options = (\n",
    "        ClientOptions(api_endpoint=f\"{location}-discoveryengine.googleapis.com\")\n",
    "        if location != \"global\"\n",
    "        else None\n",
    "    )\n",
    "    \n",
    "    # Create a client\n",
    "    client = discoveryengine.SearchServiceClient(client_options=client_options)\n",
    "    \n",
    "    # The full resource name of the search app serving config\n",
    "    serving_config = f\"projects/{project_id}/locations/{location}/collections/default_collection/engines/{engine_id}/servingConfigs/default_config\"\n",
    "    \n",
    "    \n",
    "    content_search_spec = discoveryengine.SearchRequest.ContentSearchSpec(\n",
    "        # For information about snippets, refer to:\n",
    "        # https://cloud.google.com/generative-ai-app-builder/docs/snippets\n",
    "        snippet_spec=discoveryengine.SearchRequest.ContentSearchSpec.SnippetSpec(\n",
    "            return_snippet=True\n",
    "            ),\n",
    "        # For information about search summaries, refer to:\n",
    "        # https://cloud.google.com/generative-ai-app-builder/docs/get-search-summaries\n",
    "        summary_spec=discoveryengine.SearchRequest.ContentSearchSpec.SummarySpec(\n",
    "            summary_result_count=5,\n",
    "            include_citations=True,\n",
    "            ignore_adversarial_query=True,\n",
    "            ignore_non_summary_seeking_query=True,\n",
    "            model_prompt_spec=discoveryengine.SearchRequest.ContentSearchSpec.SummarySpec.ModelPromptSpec(\n",
    "                preamble=\"\"\n",
    "            ),\n",
    "            model_spec=discoveryengine.SearchRequest.ContentSearchSpec.SummarySpec.ModelSpec(\n",
    "                version=\"gemini-1.5-flash-001/answer_gen/v1\",\n",
    "            ),\n",
    "        ),\n",
    "    )\n",
    "    \n",
    "    request = discoveryengine.SearchRequest(\n",
    "        serving_config=serving_config,\n",
    "        query=search_query,\n",
    "        #page_size=1,\n",
    "        content_search_spec=content_search_spec,\n",
    "        query_expansion_spec=discoveryengine.SearchRequest.QueryExpansionSpec(\n",
    "            condition=discoveryengine.SearchRequest.QueryExpansionSpec.Condition.AUTO,\n",
    "        ),\n",
    "        spell_correction_spec=discoveryengine.SearchRequest.SpellCorrectionSpec(\n",
    "            mode=discoveryengine.SearchRequest.SpellCorrectionSpec.Mode.AUTO\n",
    "        ),\n",
    "    )\n",
    "\n",
    "    response = client.search(request)\n",
    "    #print(response)\n",
    "\n",
    "    return response"
   ]
  },
  {
   "cell_type": "markdown",
   "id": "d684f2b5-c6e2-47fa-a7c5-8c4f21f8d8a6",
   "metadata": {},
   "source": [
    "Define a function to extract the customer ID and extension ID from the folder structure"
   ]
  },
  {
   "cell_type": "code",
   "execution_count": 17,
   "id": "54c1f359-8999-4677-b9d0-cec870a161a6",
   "metadata": {
    "tags": []
   },
   "outputs": [],
   "source": [
    "def extract_customer_and_extension(file_path):\n",
    "    \"\"\"Extracts customer code and extension from a GCS file path.\n",
    "\n",
    "    Args:\n",
    "        file_path: The GCS file path.\n",
    "\n",
    "    Returns:\n",
    "        A tuple containing (customer_id, ext_id).\n",
    "    \"\"\"\n",
    "\n",
    "    # Use a regular expression to extract the customer code and extension\n",
    "    match = re.search(r\"testing/(.*?)/(\\w+)/\", file_path)\n",
    "\n",
    "    if match:\n",
    "        customer_id = match.group(1)\n",
    "        ext_id = match.group(2)\n",
    "        return customer_id, ext_id\n",
    "\n",
    "    return None, None  "
   ]
  },
  {
   "cell_type": "code",
   "execution_count": null,
   "id": "bfea6148-3373-4368-a9b5-3d3125e6dcbd",
   "metadata": {},
   "outputs": [],
   "source": []
  },
  {
   "cell_type": "markdown",
   "id": "e7a18fed-80c4-4a92-a157-ac891e0d83f7",
   "metadata": {},
   "source": [
    "Create a VAIS Data Store"
   ]
  },
  {
   "cell_type": "code",
   "execution_count": 18,
   "id": "37c612f8-96da-4b47-9b2f-124b1dbd7361",
   "metadata": {
    "tags": []
   },
   "outputs": [
    {
     "name": "stdout",
     "output_type": "stream",
     "text": [
      "Waiting for operation to complete...\n",
      "name: \"projects/246771786686/locations/global/collections/default_collection/dataStores/manh_test001\"\n",
      "display_name: \"manh_test001\"\n",
      "industry_vertical: GENERIC\n",
      "content_config: CONTENT_REQUIRED\n",
      "default_schema_id: \"default_schema\"\n",
      "\n"
     ]
    }
   ],
   "source": [
    "#create_and_upload_datastore(PROJECT_ID, LOCATION, DSNAME, qa_response, qa_schema)\n",
    "create_vais_data_store(PROJECT_ID, LOCATION, DSNAME)"
   ]
  },
  {
   "cell_type": "code",
   "execution_count": null,
   "id": "6248e6b5-ecb3-449a-be37-8eab5000e8c9",
   "metadata": {},
   "outputs": [],
   "source": []
  },
  {
   "cell_type": "markdown",
   "id": "d3431cae-cd78-4cdc-9744-8d21a2054b52",
   "metadata": {},
   "source": [
    "Build the python list of all the files in the bucket / parent subfolder"
   ]
  },
  {
   "cell_type": "code",
   "execution_count": 19,
   "id": "f3d2950c-3cad-4b47-9870-220f3e8ee7b5",
   "metadata": {
    "tags": []
   },
   "outputs": [
    {
     "name": "stdout",
     "output_type": "stream",
     "text": [
      "Starting recursive import for folder: testing/\n"
     ]
    }
   ],
   "source": [
    "all_files = get_files(GCS_BUCKET, GCS_FOLDER)\n",
    "#print(all_files)"
   ]
  },
  {
   "cell_type": "code",
   "execution_count": 34,
   "id": "34215c32-dcc0-4bec-89fe-618bbbf19850",
   "metadata": {
    "tags": []
   },
   "outputs": [],
   "source": [
    "doc_id = 0\n",
    "\n",
    "for file in all_files:\n",
    "    if re.search(\"\\\\.DS_Store\", file):\n",
    "        continue\n",
    "    try:\n",
    "        # set the document ID\n",
    "        doc_id = doc_id + 1\n",
    "        \n",
    "        # Identify the mime type of the file\n",
    "        if re.search(\"\\\\.vm$\", file):\n",
    "            mime_type = \"text/plain\"\n",
    "        elif re.search(\"\\\\.md$\", file):\n",
    "            mime_type = \"text/plain\"\n",
    "        else:\n",
    "            mime_type = mimetypes.guess_type(file)[0]\n",
    "\n",
    "        # Set the file_uri\n",
    "        file_uri = 'gs://'+GCS_BUCKET+'/'+file\n",
    "        \n",
    "        # Extract the customer ID and ext ID\n",
    "        customer_id, ext_id = extract_customer_and_extension(file)\n",
    "        \n",
    "        # Create the document in the VAIS data store\n",
    "        text_create_document(PROJECT_ID, LOCATION, DSNAME, str(doc_id), file_uri, mime_type, customer_id, ext_id)\n",
    "        print('Created '+file_uri+' with mime type '+mime_type+' and doc ID '+str(doc_id))\n",
    "        \n",
    "    except TypeError:\n",
    "        print(f\"Error: Unknown MIME type for file {file} - Skipping...\")"
   ]
  },
  {
   "cell_type": "code",
   "execution_count": null,
   "id": "c6c8faf0-a065-418d-a758-9508a69d9928",
   "metadata": {},
   "outputs": [],
   "source": []
  },
  {
   "cell_type": "code",
   "execution_count": null,
   "id": "926d8620-4847-4ea5-84d2-308a6e383eef",
   "metadata": {
    "tags": []
   },
   "outputs": [],
   "source": [
    "search_prompt = 'Tell me more about EXT11'\n",
    "#search_prompt = 'How many Old English items do I have?'"
   ]
  },
  {
   "cell_type": "code",
   "execution_count": null,
   "id": "c727d4ca-3f2c-476b-ac7a-9a036a505191",
   "metadata": {
    "tags": []
   },
   "outputs": [],
   "source": [
    "#search_result = search_sample(PROJECT_ID, LOCATION, 'test-123_1712092317594', search_prompt)\n",
    "search_result = search_sample(PROJECT_ID, LOCATION, DSENGINE, search_prompt)\n",
    "\n",
    "print(search_result)"
   ]
  },
  {
   "cell_type": "code",
   "execution_count": null,
   "id": "a0339fe0-ed2f-4c20-96db-868a0fe5c711",
   "metadata": {
    "tags": []
   },
   "outputs": [],
   "source": [
    "print(search_result.summary.summary_text)"
   ]
  },
  {
   "cell_type": "code",
   "execution_count": null,
   "id": "ece4d705-5846-45ad-b1b8-0f6766ff6353",
   "metadata": {},
   "outputs": [],
   "source": []
  }
 ],
 "metadata": {
  "environment": {
   "kernel": "python3",
   "name": "common-cpu.m113",
   "type": "gcloud",
   "uri": "gcr.io/deeplearning-platform-release/base-cpu:m113"
  },
  "kernelspec": {
   "display_name": "Python 3",
   "language": "python",
   "name": "python3"
  },
  "language_info": {
   "codemirror_mode": {
    "name": "ipython",
    "version": 3
   },
   "file_extension": ".py",
   "mimetype": "text/x-python",
   "name": "python",
   "nbconvert_exporter": "python",
   "pygments_lexer": "ipython3",
   "version": "3.10.13"
  }
 },
 "nbformat": 4,
 "nbformat_minor": 5
}

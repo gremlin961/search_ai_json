{
 "cells": [
  {
   "cell_type": "markdown",
   "id": "8a331300-5ff3-4219-83c0-ce11703cc9e1",
   "metadata": {},
   "source": [
    "# How To Create a Vertex Search AI Data Store Using Python"
   ]
  },
  {
   "cell_type": "markdown",
   "id": "34429b82-078c-4107-827d-8aaed4ab1121",
   "metadata": {},
   "source": [
    "This notebook outlines how to create an ustructured data store in Vertex AI Search. In this example we will create a Vertex AI Search data store and create some documents from a GCS bucket. After creating the data store, we will perform a query and optionally pass the query and the results to Gemini-Pro to produce the final answer."
   ]
  },
  {
   "cell_type": "markdown",
   "id": "69ed54ec-9f36-40af-8d2e-c6fd32a76222",
   "metadata": {},
   "source": [
    "## Prepare the python development environment"
   ]
  },
  {
   "cell_type": "markdown",
   "id": "906ce888-8c52-476b-96d0-7f65cb259f8d",
   "metadata": {},
   "source": [
    "First, let's identify any project specific variables to customize this notebook to your GCP environment. Change YOUR_PROJECT_ID with your own GCP project ID."
   ]
  },
  {
   "cell_type": "code",
   "execution_count": null,
   "id": "205088b5-6d5b-46dd-9d77-a8352eac630b",
   "metadata": {
    "tags": []
   },
   "outputs": [],
   "source": [
    "PROJECT_ID = 'YOUR_PROJECT_ID'\n",
    "REGION = 'us-central1'\n",
    "LOCATION = 'global'\n",
    "GCS_BUCKET = 'YOUR_GCS_BUCKET'\n",
    "GCS_FOLDER = 'YOUR_FOLDER_IN_GCS_BUCKET'\n",
    "DSNAME = \"NAME_OF_THE_DATA-STORE\" \n",
    "DSENGINE = 'NAME_OF_THE_APP-ENGINE'"
   ]
  },
  {
   "cell_type": "markdown",
   "id": "fe92738a-045b-48a4-ab0e-1d98fad2089a",
   "metadata": {},
   "source": [
    "Install any needed python modules from our requirements.txt file. Most Vertex Workbench environments include all the packages we'll be using, but if you are using an external Jupyter Notebook or require any additional packages for your own needs, you can simply add them to the included requirements.txt file an run the folloiwng commands."
   ]
  },
  {
   "cell_type": "code",
   "execution_count": null,
   "id": "f69175b8-63c4-4b5a-837d-055743c0b8d1",
   "metadata": {
    "tags": []
   },
   "outputs": [],
   "source": [
    "#pip install -r requirements.txt"
   ]
  },
  {
   "cell_type": "markdown",
   "id": "444b2ce7-0277-4ada-9648-34c67774bfd2",
   "metadata": {},
   "source": [
    "Now we will import all required modules. For our purpose, we will be utilizing the following:\n",
    "\n",
    "- vertexai - Provides authentication access to the Google API's, such as imagegeneration:predict\n",
    "- vertexai.preview.generative_models - Interact with new multimodal models\n",
    "- base64 - Imagen API requests return generated or edited images as base64-encoded strings. This module will help us decode this data to an image file\n",
    "- json - Python module used to interact with JSON data. Imagen returns results in json format."
   ]
  },
  {
   "cell_type": "code",
   "execution_count": null,
   "id": "b8e15897-0cb0-4173-9b91-17270a10b989",
   "metadata": {
    "tags": []
   },
   "outputs": [],
   "source": [
    "import vertexai\n",
    "from vertexai.preview.generative_models import GenerativeModel, Part\n",
    "\n",
    "from google.cloud import aiplatform\n",
    "from google.cloud import aiplatform_v1beta1 as vertex_ai\n",
    "\n",
    "from google.cloud import storage\n",
    "\n",
    "from typing import List\n",
    "from google.api_core.client_options import ClientOptions\n",
    "\n",
    "from google.cloud import discoveryengine_v1beta as discoveryengine\n",
    "\n",
    "import base64\n",
    "import json\n",
    "import re\n",
    "import mimetypes"
   ]
  },
  {
   "cell_type": "markdown",
   "id": "4a2b2668-962a-42da-b92b-4932f224bb0d",
   "metadata": {},
   "source": [
    "## Instantiate Vertex AI ojbect"
   ]
  },
  {
   "cell_type": "markdown",
   "id": "bcc262a0-fad5-4f15-aee3-cf9ce36a78b0",
   "metadata": {},
   "source": [
    "Define the functions that will be used in this notebook."
   ]
  },
  {
   "cell_type": "markdown",
   "id": "7c42ad98-e2f9-4c04-a1eb-8f42d2bb1b5e",
   "metadata": {},
   "source": [
    "Define a function to build a python list of files located within a GCS bucket and subfolder. This list is recursive."
   ]
  },
  {
   "cell_type": "code",
   "execution_count": null,
   "id": "6ff660fc-81fb-45b5-9132-8b3e4b002e25",
   "metadata": {
    "tags": []
   },
   "outputs": [],
   "source": [
    "def get_files(bucket_name, prefix):\n",
    "    \"\"\"Lists all files in a Google Cloud Storage bucket recursively.\n",
    "\n",
    "    Args:\n",
    "        bucket_name: The name of the GCS bucket.\n",
    "        prefix: (Optional) Filter results to files prefixed by this value.\n",
    "\n",
    "    Returns:\n",
    "        A list of file names within the bucket and all subfolders.\n",
    "    \"\"\"\n",
    "\n",
    "    storage_client = storage.Client()\n",
    "    all_files = []\n",
    "    \n",
    "    for blob in storage_client.list_blobs(bucket_name, prefix=prefix):\n",
    "        if blob.name.endswith(\"/\"):  # It's a folder\n",
    "            print('Starting recursive import for folder: ' + blob.name)\n",
    "        else:\n",
    "            all_files.append(blob.name)\n",
    "\n",
    "    return all_files"
   ]
  },
  {
   "cell_type": "markdown",
   "id": "3dd5b22d-1b4b-4a4e-845f-7a236ba18f43",
   "metadata": {},
   "source": [
    "Define a function to create a new VAIS Data Store "
   ]
  },
  {
   "cell_type": "code",
   "execution_count": null,
   "id": "c4c62234-0156-4014-8398-2ee6e5937624",
   "metadata": {
    "tags": []
   },
   "outputs": [],
   "source": [
    "def create_vais_data_store(project_id, location, display_name):\n",
    "    # Create a client\n",
    "    client = discoveryengine.DataStoreServiceClient()\n",
    "\n",
    "    # Initialize request argument(s)\n",
    "    data_store = discoveryengine.DataStore()\n",
    "    data_store.display_name = display_name\n",
    "    data_store.industry_vertical = 'GENERIC'\n",
    "    data_store.content_config = 'CONTENT_REQUIRED'\n",
    "\n",
    "    request = discoveryengine.CreateDataStoreRequest(\n",
    "        #parent=f\"projects/{project_id}/locations/{location}\",\n",
    "        parent=f\"projects/{project_id}/locations/{location}/collections/default_collection\",\n",
    "        data_store=data_store,\n",
    "        data_store_id = display_name\n",
    "    )\n",
    "\n",
    "    # Make the request\n",
    "    operation = client.create_data_store(request=request)\n",
    "\n",
    "    print(\"Waiting for operation to complete...\")\n",
    "\n",
    "    response = operation.result()\n",
    "\n",
    "    # Handle the response\n",
    "    print(response)\n"
   ]
  },
  {
   "cell_type": "markdown",
   "id": "3809bc66-1d82-4306-acb2-ca1d26e0385f",
   "metadata": {},
   "source": [
    "Define a function to add a file to an unstructured data store"
   ]
  },
  {
   "cell_type": "code",
   "execution_count": null,
   "id": "c3ff2384-c246-4c1e-8c4a-0fba0964e98d",
   "metadata": {
    "tags": []
   },
   "outputs": [],
   "source": [
    "def text_create_document(project_id, location, datastore_name, document_id, file_uri, mime_type, customer_id, extension_id):\n",
    "    # Create a client\n",
    "    client = discoveryengine.DocumentServiceClient()\n",
    "    \n",
    "    # Create the Document object\n",
    "    document = discoveryengine.Document(\n",
    "        content=discoveryengine.Document.Content(\n",
    "            mime_type=mime_type,\n",
    "            #raw_bytes=text_content,\n",
    "            uri=file_uri,\n",
    "        ),\n",
    "        json_data='{\"customer_id\":\"'+customer_id+'\", \"extension_id\":\"'+extension_id+'\"}'\n",
    "    )\n",
    "\n",
    "    # Initialize request argument(s)\n",
    "    request = discoveryengine.CreateDocumentRequest(\n",
    "        parent=f\"projects/{project_id}/locations/{location}/collections/default_collection/dataStores/{datastore_name}/branches/0\",\n",
    "        document=document,\n",
    "        document_id=document_id,\n",
    "    )\n",
    "\n",
    "    # Make the request\n",
    "    response = client.create_document(request=request)\n",
    "\n",
    "    # Handle the response\n",
    "    print(response)"
   ]
  },
  {
   "cell_type": "markdown",
   "id": "8eee0335-4632-42ce-9208-f5e3f4149424",
   "metadata": {},
   "source": [
    "Define a function to extract the customer ID and extension ID from the folder structure"
   ]
  },
  {
   "cell_type": "code",
   "execution_count": null,
   "id": "eea00a17-e153-41e8-8a6b-b9ab4db3e790",
   "metadata": {
    "tags": []
   },
   "outputs": [],
   "source": [
    "def extract_customer_and_extension(file_path):\n",
    "    \"\"\"Extracts customer code and extension from a GCS file path.\n",
    "\n",
    "    Args:\n",
    "        file_path: The GCS file path.\n",
    "\n",
    "    Returns:\n",
    "        A tuple containing (customer_id, ext_id).\n",
    "    \"\"\"\n",
    "\n",
    "    # Use a regular expression to extract the customer code and extension\n",
    "    match = re.search(r\"testing/(.*?)/(\\w+)/\", file_path)\n",
    "\n",
    "    if match:\n",
    "        customer_id = match.group(1)\n",
    "        ext_id = match.group(2)\n",
    "        return customer_id, ext_id\n",
    "\n",
    "    return None, None  "
   ]
  },
  {
   "cell_type": "code",
   "execution_count": null,
   "id": "6536a182-e8c1-44bb-9906-c814b5a2236f",
   "metadata": {},
   "outputs": [],
   "source": []
  },
  {
   "cell_type": "markdown",
   "id": "9ca1fd4e-021b-4471-8611-7e00108f46da",
   "metadata": {},
   "source": [
    "Create a VAIS Data Store"
   ]
  },
  {
   "cell_type": "code",
   "execution_count": null,
   "id": "26cb2935-32c1-407c-88d6-c90323029c82",
   "metadata": {
    "tags": []
   },
   "outputs": [],
   "source": [
    "#create_and_upload_datastore(PROJECT_ID, LOCATION, DSNAME, qa_response, qa_schema)\n",
    "create_vais_data_store(PROJECT_ID, LOCATION, DSNAME)"
   ]
  },
  {
   "cell_type": "code",
   "execution_count": null,
   "id": "34ddf7d4-011b-471e-ba62-c2c6bb35a65b",
   "metadata": {},
   "outputs": [],
   "source": []
  },
  {
   "cell_type": "markdown",
   "id": "c8bc38a9-b2ca-49d3-af33-c742836b82c3",
   "metadata": {},
   "source": [
    "Build the python list of all the files in the bucket / parent subfolder"
   ]
  },
  {
   "cell_type": "code",
   "execution_count": null,
   "id": "1314ca2b-2ca3-4212-9637-1760b9cb45fe",
   "metadata": {
    "tags": []
   },
   "outputs": [],
   "source": [
    "all_files = get_files(GCS_BUCKET, GCS_FOLDER)\n",
    "#print(all_files)"
   ]
  },
  {
   "cell_type": "code",
   "execution_count": null,
   "id": "4fbd9f95-781f-4376-8143-d1c74adaf187",
   "metadata": {
    "tags": []
   },
   "outputs": [],
   "source": [
    "doc_id = 0\n",
    "\n",
    "for file in all_files:\n",
    "    if re.search(\"\\\\.DS_Store\", file):\n",
    "        continue\n",
    "    try:\n",
    "        # set the document ID\n",
    "        doc_id = doc_id + 1\n",
    "        \n",
    "        # Identify the mime type of the file\n",
    "        mime_type = mimetypes.guess_type(file)[0]\n",
    "        if re.search(\"\\\\.vm$\", file):\n",
    "            mime_type = \"text/plain\"\n",
    "        if re.search(\"\\\\.md$\", file):\n",
    "            mime_type = \"text/plain\"\n",
    "        \n",
    "        # Set the file_uri\n",
    "        file_uri = 'gs://'+GCS_BUCKET+'/'+file\n",
    "        \n",
    "        # Extract the customer ID and ext ID\n",
    "        customer_id, ext_id = extract_customer_and_extension(file)\n",
    "        \n",
    "        # Create the document in the VAIS data store\n",
    "        text_create_document(PROJECT_ID, LOCATION, DSNAME, str(doc_id), file_uri, mime_type, customer_id, ext_id)\n",
    "        print('Created '+file_uri+' with mime type '+mime_type+' and doc ID '+str(doc_id))\n",
    "        \n",
    "    except TypeError:\n",
    "        print(f\"Error: Unknown MIME type for file {file} - Skipping...\")"
   ]
  },
  {
   "cell_type": "code",
   "execution_count": null,
   "id": "694cdc15-69b6-4e93-b88d-7adf2e70c838",
   "metadata": {},
   "outputs": [],
   "source": []
  },
  {
   "cell_type": "code",
   "execution_count": null,
   "id": "64ff2588-23e7-4d0a-90cf-4318afb10baa",
   "metadata": {},
   "outputs": [],
   "source": []
  },
  {
   "cell_type": "markdown",
   "id": "005fccd0-8bff-4cce-9d12-ec3a3e0b0801",
   "metadata": {},
   "source": [
    "Create the documents in the VAIS Data Store"
   ]
  },
  {
   "cell_type": "code",
   "execution_count": null,
   "id": "3bbb3d80-bf89-4d2f-a7f5-82455deb7385",
   "metadata": {
    "tags": []
   },
   "outputs": [],
   "source": [
    "text_create_document(PROJECT_ID, LOCATION, DSNAME, doc_id, file_uri, mime_type)"
   ]
  },
  {
   "cell_type": "code",
   "execution_count": null,
   "id": "4ebc514e-8a25-4e38-b4f7-e332b535158d",
   "metadata": {},
   "outputs": [],
   "source": []
  }
 ],
 "metadata": {
  "environment": {
   "kernel": "python3",
   "name": "common-cpu.m113",
   "type": "gcloud",
   "uri": "gcr.io/deeplearning-platform-release/base-cpu:m113"
  },
  "kernelspec": {
   "display_name": "Python 3",
   "language": "python",
   "name": "python3"
  },
  "language_info": {
   "codemirror_mode": {
    "name": "ipython",
    "version": 3
   },
   "file_extension": ".py",
   "mimetype": "text/x-python",
   "name": "python",
   "nbconvert_exporter": "python",
   "pygments_lexer": "ipython3",
   "version": "3.10.13"
  }
 },
 "nbformat": 4,
 "nbformat_minor": 5
}

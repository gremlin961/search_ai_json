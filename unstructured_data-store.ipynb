{
 "cells": [
  {
   "cell_type": "markdown",
   "id": "8a331300-5ff3-4219-83c0-ce11703cc9e1",
   "metadata": {},
   "source": [
    "# How To Create a Vertex Search AI Data Store Using Python"
   ]
  },
  {
   "cell_type": "markdown",
   "id": "34429b82-078c-4107-827d-8aaed4ab1121",
   "metadata": {},
   "source": [
    "This notebook outlines how to create an ustructured data store in Vertex AI Search. In this example we will create a Vertex AI Search data store and create some documents from a GCS bucket. After creating the data store, we will perform a query and optionally pass the query and the results to Gemini-Pro to produce the final answer."
   ]
  },
  {
   "cell_type": "markdown",
   "id": "69ed54ec-9f36-40af-8d2e-c6fd32a76222",
   "metadata": {},
   "source": [
    "## Prepare the python development environment"
   ]
  },
  {
   "cell_type": "markdown",
   "id": "906ce888-8c52-476b-96d0-7f65cb259f8d",
   "metadata": {},
   "source": [
    "First, let's identify any project specific variables to customize this notebook to your GCP environment. Change YOUR_PROJECT_ID with your own GCP project ID."
   ]
  },
  {
   "cell_type": "code",
   "execution_count": null,
   "id": "205088b5-6d5b-46dd-9d77-a8352eac630b",
   "metadata": {
    "tags": []
   },
   "outputs": [],
   "source": [
    "PROJECT_ID = 'rkiles-demo-host-vpc'\n",
    "REGION = 'us-central1'\n",
    "LOCATION = 'global'\n",
    "GCS_BUCKET = 'rkiles-test'\n",
    "GCS_FOLDER = 'testing'\n",
    "DSNAME = \"manh-test002\" \n",
    "DSENGINE = 'manh-test002'"
   ]
  },
  {
   "cell_type": "markdown",
   "id": "ddcfe1f3-4e3b-48ec-ac48-25c7371965a1",
   "metadata": {},
   "source": [
    "Install any needed python modules from our requirements.txt file. Most Vertex Workbench environments include all the packages we'll be using, but if you are using an external Jupyter Notebook or require any additional packages for your own needs, you can simply add them to the included requirements.txt file an run the folloiwng commands."
   ]
  },
  {
   "cell_type": "code",
   "execution_count": null,
   "id": "8f4b205a-c50c-4028-9567-97608daaace7",
   "metadata": {
    "tags": []
   },
   "outputs": [],
   "source": [
    "#pip install -r requirements.txt"
   ]
  },
  {
   "cell_type": "markdown",
   "id": "446c690a-6fe8-4b99-9102-78c21fc878e5",
   "metadata": {},
   "source": [
    "Now we will import all required modules. For our purpose, we will be utilizing the following:\n",
    "\n",
    "- vertexai - Provides authentication access to the Google API's, such as imagegeneration:predict\n",
    "- vertexai.preview.generative_models - Interact with new multimodal models\n",
    "- base64 - Imagen API requests return generated or edited images as base64-encoded strings. This module will help us decode this data to an image file\n",
    "- json - Python module used to interact with JSON data. Imagen returns results in json format."
   ]
  },
  {
   "cell_type": "code",
   "execution_count": null,
   "id": "11a99ad8-89ca-4c6d-a3ce-592ce7f02695",
   "metadata": {
    "tags": []
   },
   "outputs": [],
   "source": [
    "import vertexai\n",
    "from vertexai.preview.generative_models import GenerativeModel, Part\n",
    "\n",
    "from google.cloud import aiplatform\n",
    "from google.cloud import aiplatform_v1beta1 as vertex_ai\n",
    "\n",
    "from google.cloud import storage\n",
    "\n",
    "from typing import List\n",
    "from google.api_core.client_options import ClientOptions\n",
    "\n",
    "from google.cloud import discoveryengine_v1beta as discoveryengine\n",
    "\n",
    "import base64\n",
    "import json\n",
    "import re\n",
    "import mimetypes"
   ]
  },
  {
   "cell_type": "markdown",
   "id": "cc932566-dcec-4a33-a1e1-29e49ba32530",
   "metadata": {},
   "source": [
    "## Instantiate Vertex AI ojbect"
   ]
  },
  {
   "cell_type": "markdown",
   "id": "9e7a7e0d-1880-4851-984f-1f89e24dc65d",
   "metadata": {},
   "source": [
    "Define the functions that will be used in this notebook."
   ]
  },
  {
   "cell_type": "markdown",
   "id": "ca747c9d-d6b1-4b34-8ae7-9fa292ed1465",
   "metadata": {},
   "source": [
    "Define a function to build a python list of files located within a GCS bucket and subfolder. This list is recursive."
   ]
  },
  {
   "cell_type": "code",
   "execution_count": null,
   "id": "20be77d5-dc37-4a36-8d42-06f689ca14d8",
   "metadata": {
    "tags": []
   },
   "outputs": [],
   "source": [
    "def get_files(bucket_name, prefix):\n",
    "    \"\"\"Lists all files in a Google Cloud Storage bucket recursively.\n",
    "\n",
    "    Args:\n",
    "        bucket_name: The name of the GCS bucket.\n",
    "        prefix: (Optional) Filter results to files prefixed by this value.\n",
    "\n",
    "    Returns:\n",
    "        A list of file names within the bucket and all subfolders.\n",
    "    \"\"\"\n",
    "\n",
    "    storage_client = storage.Client()\n",
    "    all_files = []\n",
    "    \n",
    "    for blob in storage_client.list_blobs(bucket_name, prefix=prefix):\n",
    "        if blob.name.endswith(\"/\"):  # It's a folder\n",
    "            print('Starting recursive import for folder: ' + blob.name)\n",
    "        else:\n",
    "            all_files.append(blob.name)\n",
    "\n",
    "    return all_files"
   ]
  },
  {
   "cell_type": "markdown",
   "id": "0369432d-f5ff-4e24-ab50-e53ec9e45c6a",
   "metadata": {},
   "source": [
    "Define a function to create a new VAIS Data Store "
   ]
  },
  {
   "cell_type": "code",
   "execution_count": null,
   "id": "b612b5ee-129d-4f8a-bf4d-6f1a779be5ff",
   "metadata": {
    "tags": []
   },
   "outputs": [],
   "source": [
    "def create_vais_data_store(project_id, location, display_name):\n",
    "    # Create a client\n",
    "    client = discoveryengine.DataStoreServiceClient()\n",
    "\n",
    "    # Initialize request argument(s)\n",
    "    data_store = discoveryengine.DataStore()\n",
    "    data_store.display_name = display_name\n",
    "    data_store.industry_vertical = 'GENERIC'\n",
    "    data_store.content_config = 'CONTENT_REQUIRED'\n",
    "\n",
    "    request = discoveryengine.CreateDataStoreRequest(\n",
    "        #parent=f\"projects/{project_id}/locations/{location}\",\n",
    "        parent=f\"projects/{project_id}/locations/{location}/collections/default_collection\",\n",
    "        data_store=data_store,\n",
    "        data_store_id = display_name\n",
    "    )\n",
    "\n",
    "    # Make the request\n",
    "    operation = client.create_data_store(request=request)\n",
    "\n",
    "    print(\"Waiting for operation to complete...\")\n",
    "\n",
    "    response = operation.result()\n",
    "\n",
    "    # Handle the response\n",
    "    print(response)\n"
   ]
  },
  {
   "cell_type": "markdown",
   "id": "200f9877-c5bd-4bcc-8c4c-93c3adb76eb4",
   "metadata": {},
   "source": [
    "Define a function to add a file to an unstructured data store"
   ]
  },
  {
   "cell_type": "code",
   "execution_count": null,
   "id": "bd9fb758-c46b-40d6-ba44-2b5d3bf87004",
   "metadata": {
    "tags": []
   },
   "outputs": [],
   "source": [
    "def text_create_document(project_id, location, datastore_name, document_id, file_uri, mime_type, customer_id, extension_id, category):\n",
    "    # Create a client\n",
    "    client = discoveryengine.DocumentServiceClient()\n",
    "    \n",
    "    # Create the Document object\n",
    "    document = discoveryengine.Document(\n",
    "        content=discoveryengine.Document.Content(\n",
    "            mime_type=mime_type,\n",
    "            #raw_bytes=text_content,\n",
    "            uri=file_uri,\n",
    "        ),\n",
    "        json_data='{\"customer_id\":\"'+customer_id+'\", \"extension_id\":\"'+extension_id+'\", \"category\": \"'+category+'\"}'\n",
    "    )\n",
    "\n",
    "    # Initialize request argument(s)\n",
    "    request = discoveryengine.CreateDocumentRequest(\n",
    "        parent=f\"projects/{project_id}/locations/{location}/collections/default_collection/dataStores/{datastore_name}/branches/0\",\n",
    "        document=document,\n",
    "        document_id=document_id,\n",
    "    )\n",
    "\n",
    "    # Make the request\n",
    "    response = client.create_document(request=request)\n",
    "\n",
    "    # Handle the response\n",
    "    print(response)"
   ]
  },
  {
   "cell_type": "markdown",
   "id": "f2b6e839-20d2-4592-82c7-e093ce306be2",
   "metadata": {},
   "source": [
    "Define a function to search the data store based on the information from the user prompt"
   ]
  },
  {
   "cell_type": "code",
   "execution_count": null,
   "id": "50a7cebc-4c04-445f-8726-e7034e8ac266",
   "metadata": {},
   "outputs": [],
   "source": [
    "def search_sample(project_id, location, engine_id, search_query, search_filter='') -> List[discoveryengine.SearchResponse]:\n",
    "\n",
    "    client_options = (\n",
    "        ClientOptions(api_endpoint=f\"{location}-discoveryengine.googleapis.com\")\n",
    "        if location != \"global\"\n",
    "        else None\n",
    "    )\n",
    "    \n",
    "    # Create a client\n",
    "    client = discoveryengine.SearchServiceClient(client_options=client_options)\n",
    "    \n",
    "    # The full resource name of the search app serving config\n",
    "    serving_config = f\"projects/{project_id}/locations/{location}/collections/default_collection/engines/{engine_id}/servingConfigs/default_config\"\n",
    "    \n",
    "    \n",
    "    content_search_spec = discoveryengine.SearchRequest.ContentSearchSpec(\n",
    "        # For information about snippets, refer to:\n",
    "        # https://cloud.google.com/generative-ai-app-builder/docs/snippets\n",
    "        snippet_spec=discoveryengine.SearchRequest.ContentSearchSpec.SnippetSpec(\n",
    "            return_snippet=True\n",
    "            ),\n",
    "        # For information about search summaries, refer to:\n",
    "        # https://cloud.google.com/generative-ai-app-builder/docs/get-search-summaries\n",
    "        summary_spec=discoveryengine.SearchRequest.ContentSearchSpec.SummarySpec(\n",
    "            summary_result_count=5,\n",
    "            include_citations=True,\n",
    "            ignore_adversarial_query=True,\n",
    "            ignore_non_summary_seeking_query=True,\n",
    "            model_prompt_spec=discoveryengine.SearchRequest.ContentSearchSpec.SummarySpec.ModelPromptSpec(\n",
    "                preamble=\"Do not include any information related to licensing or usage restrictions\"\n",
    "            ),\n",
    "            model_spec=discoveryengine.SearchRequest.ContentSearchSpec.SummarySpec.ModelSpec(\n",
    "                version=\"gemini-1.5-flash-001/answer_gen/v1\",\n",
    "            ),\n",
    "        ),\n",
    "    )\n",
    "    \n",
    "    request = discoveryengine.SearchRequest(\n",
    "        serving_config=serving_config,\n",
    "        query=search_query,\n",
    "        filter=search_filter,\n",
    "        #page_size=1,\n",
    "        content_search_spec=content_search_spec,\n",
    "        query_expansion_spec=discoveryengine.SearchRequest.QueryExpansionSpec(\n",
    "            condition=discoveryengine.SearchRequest.QueryExpansionSpec.Condition.AUTO,\n",
    "        ),\n",
    "        spell_correction_spec=discoveryengine.SearchRequest.SpellCorrectionSpec(\n",
    "            mode=discoveryengine.SearchRequest.SpellCorrectionSpec.Mode.AUTO\n",
    "        ),\n",
    "    )\n",
    "\n",
    "    response = client.search(request)\n",
    "    #print(response)\n",
    "\n",
    "    return response"
   ]
  },
  {
   "cell_type": "markdown",
   "id": "ef96dbd5-21f4-4f67-b6a0-d86750f87073",
   "metadata": {},
   "source": [
    "Define a function to extract the customer ID, extension ID and categorization from the folder structure"
   ]
  },
  {
   "cell_type": "code",
   "execution_count": null,
   "id": "679be6bb-7b1f-4a05-b9f3-5f4fc45d6263",
   "metadata": {
    "tags": []
   },
   "outputs": [],
   "source": [
    "def extract_customer_and_extension(file_path):\n",
    "    \"\"\"Extracts customer code, extension, and file type from a GCS file path.\n",
    "\n",
    "    Args:\n",
    "        file_path: The GCS file path.\n",
    "\n",
    "    Returns:\n",
    "        A tuple containing (customer_id, ext_id, file_category).\n",
    "    \"\"\"\n",
    "\n",
    "    # Use a regular expression to extract the customer code and extension\n",
    "    match = re.search(r\"testing/(.*?)/(\\w+)/\", file_path)\n",
    "    #match = re.search(r\"testing/(.*?)/(\\w+)(/.*)?/\", file_path)\n",
    "\n",
    "    if match:\n",
    "        customer_id = match.group(1)\n",
    "        ext_id = match.group(2)\n",
    "\n",
    "        # Categorize the file type\n",
    "        if re.search(r\".*/extension-packs-templates/.*\", file_path):\n",
    "            file_category = \"template\"\n",
    "        elif re.search(r\".*/extension-packs/.*\", file_path):\n",
    "            file_category = \"extension\"\n",
    "        elif re.search(r\".*/extension-packs-extended/.*\", file_path):\n",
    "            file_category = \"extended\"\n",
    "        elif file_path.endswith(\".docx\"):\n",
    "            file_category = \"manifest\"\n",
    "        else:\n",
    "            file_category = \"other\"\n",
    "\n",
    "        return customer_id, ext_id, file_category\n",
    "\n",
    "    return None, None, None"
   ]
  },
  {
   "cell_type": "code",
   "execution_count": null,
   "id": "8447a5fa-8312-4501-a2d1-e705466dfc27",
   "metadata": {},
   "outputs": [],
   "source": []
  },
  {
   "cell_type": "markdown",
   "id": "04789a32-45da-47d0-9a08-2f96994abdfa",
   "metadata": {},
   "source": [
    "Create a VAIS Data Store"
   ]
  },
  {
   "cell_type": "code",
   "execution_count": null,
   "id": "99d69e2c-d512-4326-83c1-af8bdc929e8d",
   "metadata": {
    "tags": []
   },
   "outputs": [],
   "source": [
    "#create_and_upload_datastore(PROJECT_ID, LOCATION, DSNAME, qa_response, qa_schema)\n",
    "create_vais_data_store(PROJECT_ID, LOCATION, DSNAME)"
   ]
  },
  {
   "cell_type": "code",
   "execution_count": null,
   "id": "21a73870-5bd5-4178-8629-9db70c530bc0",
   "metadata": {},
   "outputs": [],
   "source": []
  },
  {
   "cell_type": "markdown",
   "id": "f9af039b-0deb-49f9-9e42-ecd9153de2c1",
   "metadata": {},
   "source": [
    "Build the python list of all the files in the bucket / parent subfolder"
   ]
  },
  {
   "cell_type": "code",
   "execution_count": null,
   "id": "ec8ef0e6-04da-41ef-bb43-b5e2deec9868",
   "metadata": {
    "tags": []
   },
   "outputs": [],
   "source": [
    "all_files = get_files(GCS_BUCKET, GCS_FOLDER)\n",
    "#print(all_files)"
   ]
  },
  {
   "cell_type": "code",
   "execution_count": null,
   "id": "6c957fb7-c0e8-4cce-b83c-367f8122652f",
   "metadata": {
    "tags": []
   },
   "outputs": [],
   "source": [
    "for file in all_files:\n",
    "    print(file)"
   ]
  },
  {
   "cell_type": "code",
   "execution_count": null,
   "id": "33f5f761-6c06-4fb3-851d-38a7f0b06f61",
   "metadata": {
    "tags": []
   },
   "outputs": [],
   "source": [
    "doc_id = 0\n",
    "\n",
    "for file in all_files:\n",
    "    if re.search(\"\\\\.DS_Store\", file):\n",
    "        continue\n",
    "    try:\n",
    "        # set the document ID\n",
    "        doc_id = doc_id + 1\n",
    "        \n",
    "        # Identify the mime type of the file\n",
    "        mime_type = mimetypes.guess_type(file)[0]\n",
    "        if re.search(\"\\\\.vm$\", file):\n",
    "            mime_type = \"text/plain\"\n",
    "        if re.search(\"\\\\.md$\", file):\n",
    "            mime_type = \"text/plain\"\n",
    "        \n",
    "        # Set the file_uri\n",
    "        file_uri = 'gs://'+GCS_BUCKET+'/'+file\n",
    "        \n",
    "        # Extract the customer ID and ext ID\n",
    "        customer_id, ext_id, category = extract_customer_and_extension(file)\n",
    "        \n",
    "        # Create the document in the VAIS data store\n",
    "        text_create_document(PROJECT_ID, LOCATION, DSNAME, str(doc_id), file_uri, mime_type, customer_id, ext_id, category)\n",
    "        print('Created '+file_uri+' with mime type '+mime_type+' and doc ID '+str(doc_id))\n",
    "        \n",
    "    except TypeError:\n",
    "        print(f\"Error: Unknown MIME type for file {file} - Skipping...\")"
   ]
  },
  {
   "cell_type": "code",
   "execution_count": null,
   "id": "2f82d773-a063-4350-869f-2903b36322e4",
   "metadata": {},
   "outputs": [],
   "source": []
  },
  {
   "cell_type": "code",
   "execution_count": null,
   "id": "d434bb95-d8bc-4326-ba6b-8a010fa66162",
   "metadata": {
    "tags": []
   },
   "outputs": [],
   "source": [
    "search_prompt = 'Tell me more about this extension'\n",
    "search_filter = 'extension_id: ANY(\\\"EX08\\\")'"
   ]
  },
  {
   "cell_type": "code",
   "execution_count": null,
   "id": "a0f7ff7e-dde0-4ee9-8dc4-635b0f30da5a",
   "metadata": {
    "tags": []
   },
   "outputs": [],
   "source": [
    "#search_result = search_sample(PROJECT_ID, LOCATION, DSENGINE, search_prompt)\n",
    "search_result = search_sample(PROJECT_ID, LOCATION, DSENGINE, search_prompt, search_filter)\n",
    "\n",
    "#print(search_result)"
   ]
  },
  {
   "cell_type": "code",
   "execution_count": null,
   "id": "60ff6a54-74ec-41e1-a744-f8e1f50833dd",
   "metadata": {
    "tags": []
   },
   "outputs": [],
   "source": [
    "print(search_result.summary.summary_text)"
   ]
  },
  {
   "cell_type": "code",
   "execution_count": null,
   "id": "39b32077-a578-4002-b4e1-e135bfd0ee16",
   "metadata": {},
   "outputs": [],
   "source": [
    "#-- Print just the first returned document --#\n",
    "#print(search_result.results[0].document.derived_struct_data['link'])\n",
    "\n",
    "#-- Print the full list of returned documents --#\n",
    "for i in search_result.results:\n",
    "    print(i.document.derived_struct_data['link'])"
   ]
  },
  {
   "cell_type": "code",
   "execution_count": null,
   "id": "922fd5b7-b8c9-4226-9b07-fe6e9b1f9c0e",
   "metadata": {},
   "outputs": [],
   "source": []
  }
 ],
 "metadata": {
  "environment": {
   "kernel": "python3",
   "name": "common-cpu.m113",
   "type": "gcloud",
   "uri": "gcr.io/deeplearning-platform-release/base-cpu:m113"
  },
  "kernelspec": {
   "display_name": "Python 3",
   "language": "python",
   "name": "python3"
  },
  "language_info": {
   "codemirror_mode": {
    "name": "ipython",
    "version": 3
   },
   "file_extension": ".py",
   "mimetype": "text/x-python",
   "name": "python",
   "nbconvert_exporter": "python",
   "pygments_lexer": "ipython3",
   "version": "3.10.13"
  }
 },
 "nbformat": 4,
 "nbformat_minor": 5
}
